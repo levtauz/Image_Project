{
 "cells": [
  {
   "cell_type": "code",
   "execution_count": 1,
   "metadata": {
    "collapsed": false
   },
   "outputs": [
    {
     "name": "stdout",
     "output_type": "stream",
     "text": [
      "Using matplotlib backend: TkAgg\n",
      "Populating the interactive namespace from numpy and matplotlib\n"
     ]
    }
   ],
   "source": [
    "%pylab\n",
    "# Import functions and libraries\n",
    "import numpy as np\n",
    "import matplotlib.pyplot as plt\n",
    "import bitarray, time, urllib, ssl\n",
    "from scipy import signal, integrate\n",
    "from fractions import gcd\n",
    "\n",
    "%matplotlib inline"
   ]
  },
  {
   "cell_type": "code",
   "execution_count": 2,
   "metadata": {
    "collapsed": true
   },
   "outputs": [],
   "source": [
    "# function to compute least common multipler\n",
    "def lcm(numbers):\n",
    "    return reduce(lambda x, y: (x*y)/gcd(x,y), numbers, 1)\n",
    "\n",
    "# function to compute average power spectrum\n",
    "def avgPS( x, N=256, fs=1):\n",
    "    M = floor(len(x)/N)\n",
    "    x_ = reshape(x[:M*N],(M,N)) * np.hamming(N)[None,:]\n",
    "    X = np.fft.fftshift(np.fft.fft(x_,axis=1),axes=1)\n",
    "    return r_[-N/2.0:N/2.0]/N*fs, mean(abs(X)**2,axis=0)\n"
   ]
  },
  {
   "cell_type": "code",
   "execution_count": 3,
   "metadata": {
    "collapsed": true
   },
   "outputs": [],
   "source": [
    "def afsk(bits, fs = 48000, baud=1200, mark_f = 1200, space_f = 2200):\n",
    "    # the function will take a bitarray of bits and will output an AFSK1200 modulated signal of them, sampled at 44100Hz\n",
    "    #  Inputs:\n",
    "    #         bits  - bitarray of bits\n",
    "    #         fs    - sampling rate\n",
    "    # Outputs:\n",
    "    #         sig    -  returns afsk1200 modulated signal\n",
    "    \n",
    "    fs_lcm = lcm((baud, fs))\n",
    "    \n",
    "    fc = (mark_f+space_f)/2\n",
    "    df = (mark_f-space_f)/2\n",
    "    \n",
    "    samples_per_bit = fs_lcm/baud\n",
    "    mark_f = np.empty(0)\n",
    "    \n",
    "    N = samples_per_bit*len(bits)\n",
    "    \n",
    "    for i in bits:\n",
    "        mark_f = np.r_[mark_f, np.repeat(1 if i else -1, samples_per_bit)]\n",
    "        \n",
    "    t = np.linspace(0,len(bits)*1.0/baud,N-1)\n",
    "    \n",
    "    phase = 2*pi*fc*t + 2*pi*df*integrate.cumtrapz(mark_f*(1.0/fs_lcm))\n",
    "    sig = np.cos(phase)\n",
    "    \n",
    "    return sig[::fs_lcm/fs]\n",
    "\n",
    "def mfsk(bits, fs = 48000, baud=1200, freqs = [900, 1200, 1800, 2100]):\n",
    "    # the function will take a bitarray of bits and will output an AFSK1200 modulated signal of them, sampled at 48000Hz\n",
    "    #  Inputs:\n",
    "    #         bits  - bitarray of bits\n",
    "    #         fs    - sampling rate\n",
    "    # Outputs:\n",
    "    #         sig    -  returns afsk1200 modulated signal\n",
    "    \n",
    "    fs_lcm = lcm((baud, fs))\n",
    "    \n",
    "    fc = (freqs[1]+freqs[2])/2\n",
    "    df = (freqz[2]-freqs[1])/2\n",
    "    \n",
    "    samples_per_bit = fs_lcm/baud\n",
    "    mark_f = np.empty(0)\n",
    "    \n",
    "    N = samples_per_bit*len(bits)\n",
    "    \n",
    "    for i in bits:\n",
    "        mark_f = np.r_[mark_f, np.repeat(1 if i else -1, samples_per_bit)]\n",
    "        \n",
    "    t = np.linspace(0,len(bits)*1.0/baud,N-1)\n",
    "    \n",
    "    phase = 2*pi*fc*t + 2*pi*df*integrate.cumtrapz(mark_f*(1.0/fs_lcm))\n",
    "    sig = np.cos(phase)\n",
    "    \n",
    "    return sig[::fs_lcm/fs]\n",
    "\n",
    "def nc_afsk1200Demod(sig, fs=48000.0, baud=1200, TBW=2.0):\n",
    "    #  non-coherent demodulation of afsk1200\n",
    "    # function returns the NRZ (without rectifying it)\n",
    "    # \n",
    "    # sig  - signal\n",
    "    # baud - The bitrate. Default 1200\n",
    "    # fs   - sampling rate in Hz\n",
    "    # TBW  - TBW product of the filters\n",
    "    #\n",
    "    # Returns:\n",
    "    #     NRZ \n",
    "    \n",
    "    # your code here\n",
    "    N = (fs*TBW*1.0/1200 // 2) * 2 + 1\n",
    "    h = signal.firwin(N,600.0,nyq=fs/2,window='hanning')\n",
    "\n",
    "    t = np.arange(0,N*1.0/fs, 1.0/fs)\n",
    "    \n",
    "    h_s = np.exp(1j*2*pi*t*1200) * h\n",
    "    h_m = np.exp(1j*2*pi*t*2200) * h\n",
    "\n",
    "    space = np.abs(signal.fftconvolve(sig, h_s, mode='same'))\n",
    "    mark = np.abs(signal.fftconvolve(sig, h_m, mode='same'))\n",
    "\n",
    "    NRZ = space - mark\n",
    "    return NRZ\n",
    "\n",
    "def PLL(NRZa, a = 0.74 , fs = 48000, baud = 1200):\n",
    "    # \n",
    "    # function implements a simple phased lock loop for timing recovery\n",
    "    #\n",
    "    # Inputs:\n",
    "    #          NRZa -   The NRZ signal\n",
    "    #          a - nudge factor\n",
    "    #          fs - sampling rate (arbitrary)\n",
    "    #          baude  - the bit rate\n",
    "    #\n",
    "    # Outputs:\n",
    "    #          idx - array of indexes to sample at\n",
    "    #\n",
    "    ctr = int32(-2147483648)\n",
    "    idx = []\n",
    "    prev_val = NRZa[0]\n",
    "    cur_val = NRZa[0]\n",
    "    for i in range(NRZa.shape[0]):\n",
    "        # increment counter\n",
    "        prev_ctr = ctr\n",
    "        ctr = int32(ctr + 2**32/(fs/baud))\n",
    "        \n",
    "        #check overflow\n",
    "        if np.sign(prev_ctr) == 1 and np.sign(ctr) == -1:\n",
    "            idx += [i]\n",
    "        \n",
    "        #zero-crossing\n",
    "        prev_val, cur_val = cur_val, NRZa[i]\n",
    "        if np.sign(cur_val) != np.sign(prev_val):\n",
    "            ctr = int32(ctr * a)\n",
    "            \n",
    "    return idx"
   ]
  },
  {
   "cell_type": "code",
   "execution_count": 7,
   "metadata": {
    "collapsed": false
   },
   "outputs": [
    {
     "name": "stderr",
     "output_type": "stream",
     "text": [
      "/Users/shane/anaconda/lib/python2.7/site-packages/ipykernel/__main__.py:27: VisibleDeprecationWarning: using a non-integer number instead of an integer will result in an error in the future\n",
      "/Users/shane/anaconda/lib/python2.7/site-packages/ipykernel/__main__.py:8: VisibleDeprecationWarning: using a non-integer number instead of an integer will result in an error in the future\n",
      "/Users/shane/anaconda/lib/python2.7/site-packages/numpy/core/fromnumeric.py:225: VisibleDeprecationWarning: using a non-integer number instead of an integer will result in an error in the future\n",
      "  return reshape(newshape, order=order)\n"
     ]
    },
    {
     "data": {
      "image/png": "[encoded data removed]",
      "text/plain": [
       "<matplotlib.figure.Figure at 0x107cc5410>"
      ]
     },
     "metadata": {},
     "output_type": "display_data"
    }
   ],
   "source": [
    "fs = 48e3\n",
    "baud = 1400\n",
    "df=10\n",
    "mark_f, space_f = 800, 2400 #mark and space multiplse\n",
    "L = 4096\n",
    "\n",
    "bits=bitarray.bitarray((rand(L)>0.5).tolist())\n",
    "\n",
    "# Your code here\n",
    "sig = afsk(bits, fs=fs, baud=baud, mark_f=mark_f, space_f=space_f)\n",
    "\n",
    "f, P = avgPS(sig, N=int(fs/df), fs=fs)\n",
    "plt.plot(f,P)\n",
    "plt.axis([0,3e3,0,70000])\n",
    "plt.show()"
   ]
  },
  {
   "cell_type": "code",
   "execution_count": null,
   "metadata": {
    "collapsed": false
   },
   "outputs": [],
   "source": [
    "NRZa = nc_afsk1200Demod(sig, fs, baud)\n",
    "idx = PLL(NRZa, baud=baud)\n",
    "\n",
    "bit_dec = bitarray.bitarray((NRZa[idx] > 0).tolist())\n",
    "\n",
    "num_correct = (~(bits ^ bit_dec)).count()\n",
    "BER = (L-num_correct*1.0)/L\n",
    "\n",
    "print BER"
   ]
  },
  {
   "cell_type": "code",
   "execution_count": null,
   "metadata": {
    "collapsed": true
   },
   "outputs": [],
   "source": []
  },
  {
   "cell_type": "code",
   "execution_count": null,
   "metadata": {
    "collapsed": true
   },
   "outputs": [],
   "source": []
  }
 ],
 "metadata": {
  "kernelspec": {
   "display_name": "Python 2",
   "language": "python",
   "name": "python2"
  },
  "language_info": {
   "codemirror_mode": {
    "name": "ipython",
    "version": 2
   },
   "file_extension": ".py",
   "mimetype": "text/x-python",
   "name": "python",
   "nbconvert_exporter": "python",
   "pygments_lexer": "ipython2",
   "version": "2.7.10"
  }
 },
 "nbformat": 4,
 "nbformat_minor": 0
}
