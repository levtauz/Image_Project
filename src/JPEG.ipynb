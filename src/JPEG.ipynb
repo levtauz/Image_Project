{
 "cells": [
  {
   "cell_type": "code",
   "execution_count": 30,
   "metadata": {
    "collapsed": false
   },
   "outputs": [],
   "source": [
    "from scipy import misc\n",
    "import numpy as np\n",
    "from scipy.fftpack import dct, idct\n",
    "from skimage.color import rgb2lab, lab2rgb\n",
    "import math\n",
    "import matplotlib.pyplot as plt\n",
    "from quant_tables import *\n",
    "import utils\n",
    "import JPEG\n",
    "import bitarray\n",
    "import gzip\n",
    "import os\n",
    "%matplotlib inline\n"
  ]
  },
  {
   "cell_type": "code",
   "execution_count": 13,
   "metadata": {
    "collapsed": false
   },
   "outputs": [],
   "source": [
    "calBlue = misc.imread('images/calBlue.tiff')\n",
    "Marconi = misc.imread('images/Marconi.tiff')\n",
    "createrLake = misc.imread('images/createrLake.tiff')\n",
    "Isee = misc.imread('images/Isee.tiff')\n",
    "pauly = misc.imread('images/pauly.tiff')"
   ]
  },
  {
   "cell_type": "code",
   "execution_count": 14,
   "metadata": {
    "collapsed": false
   },
   "outputs": [],
   "source": [
    "def zeropad_image(V):\n",
    "    def roundup(x):\n",
    "        return int(math.ceil(x * 1.0 / 8)) * 8\n",
    "    rows, cols = roundup(V.shape[0]), roundup(V.shape[1])\n",
    "    zeros = np.zeros((rows, cols, 3), dtype='uint8')\n",
    "    zeros[:V.shape[0], :V.shape[1], :] = V\n",
    "    return zeros"
   ]
  },
  {
   "cell_type": "code",
   "execution_count": 15,
   "metadata": {
    "collapsed": false
   },
   "outputs": [],
   "source": [
    "#Zero_pad\n",
    "O = zeropad_image(calBlue)\n",
    "#Conver to YCbCr\n",
    "O = rgb2lab(O)\n",
    "#Add offset\n",
    "O[:,:,[1,2]] += 128"
   ]
  },
  {
   "cell_type": "code",
   "execution_count": 16,
   "metadata": {
    "collapsed": false
   },
   "outputs": [],
   "source": [
    "def block_image(V):\n",
    "    l = []\n",
    "    for i in np.arange(0,V.shape[0], 8):\n",
    "        for j in np.arange(0, V.shape[1], 8):\n",
    "            l.append(V[i:i+8, j:j+8, :])\n",
    "    return np.array(l)\n",
    "\n",
    "def dct_2d(X):\n",
    "    return dct(dct(X, axis=1,norm=\"ortho\"), axis=2,norm=\"ortho\")\n",
    "\n",
    "def dct_all(X):\n",
    "    blocks = block_image(X)\n",
    "    return dct_2d(blocks)\n",
    "\n",
    "def idct_2d(X):\n",
    "    return idct(idct(X, axis=1,norm=\"ortho\"), axis=2,norm=\"ortho\")\n",
    "\n",
    "#Blocks and applies DCT\n",
    "blocked_image = block_image(O)\n",
    "O_dct = dct_2d(blocked_image)"
   ]
  },
  {
   "cell_type": "code",
   "execution_count": 17,
   "metadata": {
    "collapsed": false
   },
   "outputs": [],
   "source": [
    "def quantize(DCT_coeffs, q):\n",
    "    DCT_coeffs = DCT_coeffs.copy()\n",
    "    def a(q):\n",
    "        assert q in range(1,101)\n",
    "        if q in range(1, 51):\n",
    "            return 50.0/q\n",
    "        else:\n",
    "            return 2-q*1.0/50\n",
    "    alpha = a(q)\n",
    "    \n",
    "    DCT_coeffs[:,:,:,0] = np.round(DCT_coeffs[:,:,:,0]*1.0/(alpha*luminance_table))\n",
    "    DCT_coeffs[:,:,:,1] = np.round(DCT_coeffs[:,:,:,1]*1.0/(alpha*chrominance_table))\n",
    "    DCT_coeffs[:,:,:,2] = np.round(DCT_coeffs[:,:,:,2]*1.0/(alpha*chrominance_table))\n",
    "    \n",
    "    return DCT_coeffs\n",
    "\n",
    "O_q = quantize(dct_all(O),50)"
   ]
  },
  {
   "cell_type": "code",
   "execution_count": 7,
   "metadata": {
    "collapsed": false
   },
   "outputs": [],
   "source": [
    "def zigzag_blocks(img):\n",
    "    \"\"\"\n",
    "    shape is Mx8x8xC\n",
    "    where M is number of 8x8 dft blocks\n",
    "    \"\"\"\n",
    "    num_blocks = img.shape[0]\n",
    "    nz = img.shape[3]\n",
    "    vector = np.empty(img.shape[0] * img.shape[1] * img.shape[2] * img.shape[3])\n",
    "    indexorder = sorted(((y, x) for y in xrange(8) for x in xrange(8)), \\\n",
    "        key = lambda (y,x): (y+x, -x if (y+x) % 2 else x) )\n",
    "    counter = 0\n",
    "    for i, idx in enumerate(indexorder):\n",
    "        y, x = idx\n",
    "        for j in xrange(img.shape[0]):\n",
    "            vector[3*counter:3*counter+3] = img[j, y, x, :]\n",
    "            counter += 1\n",
    "    return vector\n",
    "\n",
    "def zigzag_decode(vec, height, width, channels=3):\n",
    "    rdup = lambda x: int(math.ceil(x * 1.0 / 8)) * 8\n",
    "    r_height = rdup(height)\n",
    "    r_width = rdup(width)\n",
    "    ny = r_height/8\n",
    "    nx = r_width/8\n",
    "    num_blocks = r_height * r_width / 64\n",
    "    img = np.empty((num_blocks,8,8,channels))\n",
    "    indexorder = sorted(((y, x) for y in xrange(8) for x in xrange(8)), \\\n",
    "        key = lambda (y,x): (y+x, -x if (y+x) % 2 else x) )\n",
    "    counter = 0\n",
    "    for i, idx in enumerate(indexorder):\n",
    "        y, x = idx\n",
    "        for j in xrange(img.shape[0]):\n",
    "            img[j, y, x, :] = vec[3*counter:3*counter+3]\n",
    "            counter += 1\n",
    "    return img\n",
    "\n",
    "#test = np.arange(384).reshape(24,16,1)\n",
    "#print test\n",
    "#vector = zigzag_full(test)\n",
    "#print vector\n",
    "#print vector\n",
    "#np.savetxt('test.gz', vector)\n",
    "#np.savetxt('test', vector)"
   ]
  },
  {
   "cell_type": "markdown",
   "metadata": {
    "collapsed": true
   },
   "source": [
    "def gzip_compress(filename, vector):\n",
    "    \"\"\"\n",
    "    file extension must have '.gz' to use gzip compression\n",
    "    \"\"\"\n",
    "    np.savetxt(filename, vector)"
   ]
  },
  {
   "cell_type": "code",
   "execution_count": 8,
   "metadata": {
    "collapsed": true
   },
   "outputs": [],
   "source": [
    "def JPEG_compression(image, quality = 50):\n",
    "    \"\"\"\n",
    "    \n",
    "    Takes in an RGB image and applys the JPEG compression algorithm\n",
    "    Steps:\n",
    "    -Preprocessing\n",
    "    -DCT\n",
    "    -Quantinization\n",
    "    \n",
    "    Input:\n",
    "    quality- determines the amount of lossy compression \n",
    "    \n",
    "    Output:\n",
    "    Numpy array of 8x8 blocks for each channel\n",
    "    [number of blocks, 8,8,3]\n",
    "    \"\"\"\n",
    "    #Prepocessing\n",
    "    im = zeropad_image(image)\n",
    "    im = rgb2lab(im)\n",
    "    im[:,:,[1,2]] += 128\n",
    "    #Blocked into 8x8 blocks and apply DCT\n",
    "    im_dct = dct_all(im)\n",
    "    #Quantize\n",
    "    im_q = quantize(im_dct,quality)\n",
    "    im_vec = zigzag_blocks(im_q)\n",
    "    return im_vec.astype(np.int16)\n",
    "    #return im_vec"
   ]
  },
  {
   "cell_type": "code",
   "execution_count": 9,
   "metadata": {
    "collapsed": false
   },
   "outputs": [],
   "source": [
    "data = JPEG_compression(calBlue,50)"
   ]
  },
  {
   "cell_type": "code",
   "execution_count": 10,
   "metadata": {
    "collapsed": false
   },
   "outputs": [],
   "source": [
    "def idct_2d(X):\n",
    "    return idct(idct(X, axis=1,norm=\"ortho\"), axis=2,norm=\"ortho\")\n",
    "\n",
    "def unblock_image(X,height, width):\n",
    "    def roundup(x):\n",
    "        return int(math.ceil(x * 1.0 / 8)) * 8\n",
    "    height, width = roundup(height), roundup(width)\n",
    "    result = np.zeros((height,width,3))\n",
    "    n = 0\n",
    "    for i in np.arange(0,height, 8):\n",
    "        for j in np.arange(0, width, 8):\n",
    "            result[i:i+8,j:j+8,:] = X[n]\n",
    "            n += 1\n",
    "    return result\n",
    "    \n",
    "def unquantize(X,q):\n",
    "    X = X.copy()\n",
    "    def a(q):\n",
    "        assert q in range(1,101)\n",
    "        if q in range(1, 51):\n",
    "            return 50.0/q\n",
    "        else:\n",
    "            return 2-q*1.0/50\n",
    "    alpha = a(q)\n",
    "    \n",
    "    X[:,:,:,0] = np.round(X[:,:,:,0]*(alpha*luminance_table))\n",
    "    X[:,:,:,1] = np.round(X[:,:,:,1]*(alpha*chrominance_table))\n",
    "    X[:,:,:,2] = np.round(X[:,:,:,2]*(alpha*chrominance_table))\n",
    "    \n",
    "    return X\n"
   ]
  },
  {
   "cell_type": "code",
   "execution_count": 11,
   "metadata": {
    "collapsed": true
   },
   "outputs": [],
   "source": [
    "def JPEG_decompression(data, quality, height, width, channels=3):\n",
    "    data = zigzag_decode(data, height, width, channels)\n",
    "    im_q = unquantize(data,quality)\n",
    "    #IDCT\n",
    "    im_idct = idct_2d(im_q)\n",
    "    #Unblock\n",
    "    im = unblock_image(im_idct,height,width)\n",
    "    \n",
    "    #Undo offset and return to RGB\n",
    "    im[:,:,[1,2]] -= 128\n",
    "    im = lab2rgb(im) * 255 # lab2rgb converts to float64\n",
    "    return im[0:height,0:width].astype(np.uint8)"
   ]
  },
  {
   "cell_type": "code",
   "execution_count": 12,
   "metadata": {
    "collapsed": false
   },
   "outputs": [
    {
     "name": "stdout",
     "output_type": "stream",
     "text": [
      "11.1366247769\n",
      "24.0130936502\n",
      "30.3636624177\n"
     ]
    }
   ],
   "source": [
    "quality = 50\n",
    "image = createrLake\n",
    "\n",
    "quality = 1\n",
    "data = JPEG_compression(image,quality)\n",
    "im1 = JPEG_decompression(data,quality,image.shape[0],image.shape[1])\n",
    "\n",
    "quality = 10\n",
    "data = JPEG_compression(image,quality)\n",
    "im10 = JPEG_decompression(data,quality,image.shape[0],image.shape[1])\n",
    "\n",
    "quality = 50\n",
    "data = JPEG_compression(image,quality)\n",
    "im50 = JPEG_decompression(data,quality,image.shape[0],image.shape[1])\n",
    "\n",
    "print psnr(image, im1)\n",
    "print psnr(image, im10)\n",
    "print psnr(image, im50)"
   ]
  },
  {
   "cell_type": "code",
   "execution_count": 13,
   "metadata": {
    "collapsed": false
   },
   "outputs": [
    {
     "name": "stdout",
     "output_type": "stream",
     "text": [
      "30.3636624177\n"
     ]
    }
   ],
   "source": [
    "print(utils.psnr(im,image))"
   ]
  },
  {
   "cell_type": "code",
   "execution_count": 14,
   "metadata": {
    "collapsed": true
   },
   "outputs": [],
   "source": [
    "with gzip.open('file.gz', 'wb') as f:\n",
    "    f.write(data)"
  ]
  },
  {
   "cell_type": "code",
   "execution_count": 15,
   "metadata": {
    "collapsed": true
   },
   "outputs": [],
   "source": [
    "with gzip.open('file2.gz', 'wb') as f:\n",
    "    f.write(image)"
   ]
  },
  {
   "cell_type": "code",
   "execution_count": 17,
   "metadata": {
    "collapsed": false
   },
   "outputs": [
    {
     "name": "stdout",
     "output_type": "stream",
     "text": [
      "65781\n",
      "1135883\n",
      "2400946\n"
     ]
    }
   ],
   "source": [
    "print(utils.get_file_size('file.gz'))\n",
    "print(utils.get_file_size('file2.gz'))\n",
    "print(utils.get_file_size('images/Marconi.tiff'))"
   ]
  },
  {
   "cell_type": "code",
   "execution_count": null,
   "metadata": {
    "collapsed": false
   },
   "outputs": [],
   "source": [
    "with gzip.open('file.gz', 'rb') as f:\n",
    "    file_content = f.read()"
   ]
  },
  {
   "cell_type": "code",
   "execution_count": null,
   "metadata": {
    "collapsed": true
   },
   "outputs": [],
   "source": []
  },
  {
   "cell_type": "code",
   "execution_count": null,
   "metadata": {
    "collapsed": false
   },
   "outputs": [],
   "source": [
    "plt.imshow(image);plt.show()\n",
    "plt.imshow(im)"
   ]
  },
  {
   "cell_type": "code",
   "execution_count": 26,
   "metadata": {
    "collapsed": false
   },
   "outputs": [
    {
     "name": "stderr",
     "output_type": "stream",
     "text": [
      "/home/lev/anaconda3/envs/py27/lib/python2.7/site-packages/skimage/color/colorconv.py:901: UserWarning: Color data out of range: Z < 0 in 20 pixels\n",
      "  warn('Color data out of range: Z < 0 in %s pixels' % invalid[0].size)\n",
      "/home/lev/anaconda3/envs/py27/lib/python2.7/site-packages/skimage/color/colorconv.py:901: UserWarning: Color data out of range: Z < 0 in 18 pixels\n",
      "  warn('Color data out of range: Z < 0 in %s pixels' % invalid[0].size)\n",
      "/home/lev/anaconda3/envs/py27/lib/python2.7/site-packages/skimage/color/colorconv.py:901: UserWarning: Color data out of range: Z < 0 in 7 pixels\n",
      "  warn('Color data out of range: Z < 0 in %s pixels' % invalid[0].size)\n",
      "/home/lev/anaconda3/envs/py27/lib/python2.7/site-packages/skimage/color/colorconv.py:901: UserWarning: Color data out of range: Z < 0 in 2 pixels\n",
      "  warn('Color data out of range: Z < 0 in %s pixels' % invalid[0].size)\n"
     ]
    }
   ],
   "source": [
    "qs = range(1,99,5)\n",
    "image = Marconi\n",
    "psnrs = []\n",
    "sizes = []\n",
    "for quality in qs:\n",
    "    data = JPEG_compression(image,quality)\n",
    "    im = JPEG_decompression(data,quality,image.shape[0],image.shape[1])\n",
    "    psnrs.append(utils.psnr(image,im))\n",
    "    utils.save_to_gzip(data,\"file\")\n",
    "    sizes.append(utils.get_file_size('file.gz'))\n"
   ]
  },
  {
   "cell_type": "code",
   "execution_count": 27,
   "metadata": {
    "collapsed": false
   },
   "outputs": [
    {
     "data": {
      "text/plain": [
       "[<matplotlib.lines.Line2D at 0x7fefe68f9e50>]"
      ]
     },
     "execution_count": 27,
     "metadata": {},
     "output_type": "execute_result"
    },
    {
     "data": {
      "image/png": "[encoded data removed]",
      "text/plain": [
       "<matplotlib.figure.Figure at 0x7fefe6ade250>"
      ]
     },
     "metadata": {},
     "output_type": "display_data"
    },
    {
     "data": {
      "image/png": "[encoded data removed]",
      "text/plain": [
       "<matplotlib.figure.Figure at 0x7fefe6b922d0>"
      ]
     },
     "metadata": {},
     "output_type": "display_data"
    },
    {
     "data": {
      "image/png": "[encoded data removed]",
      "text/plain": [
       "<matplotlib.figure.Figure at 0x7fefe697fcd0>"
      ]
     },
     "metadata": {},
     "output_type": "display_data"
    }
   ],
   "source": [
    "plt.plot(qs,psnrs)\n",
    "plt.xlabel(\"quality\")\n",
    "plt.ylabel(\"KBytes\")\n",
    "plt.figure()\n",
    "plt.plot(qs,np.array(sizes)/1000)\n",
    "plt.ylabel(\"KBytes\")\n",
    "plt.figure()\n",
    "plt.plot(psnrs,np.array(sizes)/1000)"
   ]
  }
 ],
 "metadata": {
  "kernelspec": {
   "display_name": "Python 2",
   "language": "python",
   "name": "python2"
  },
  "language_info": {
   "codemirror_mode": {
    "name": "ipython",
    "version": 2
   },
   "file_extension": ".py",
   "mimetype": "text/x-python",
   "name": "python",
   "nbconvert_exporter": "python",
   "pygments_lexer": "ipython2",
   "version": "2.7.10"
  }
 },
 "nbformat": 4,
 "nbformat_minor": 0
}
