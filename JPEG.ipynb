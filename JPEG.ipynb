{
 "cells": [
  {
   "cell_type": "code",
   "execution_count": 1,
   "metadata": {
    "collapsed": false
   },
   "outputs": [],
   "source": [
    "from scipy import misc\n",
    "import numpy as np\n",
    "from scipy.fftpack import dct\n",
    "from skimage.color import rgb2lab, lab2rgb\n",
    "import math\n",
    "import matplotlib.pyplot as plt\n",
    "from quant_tables import *\n",
    "%matplotlib inline"
   ]
  },
  {
   "cell_type": "code",
   "execution_count": 3,
   "metadata": {
    "collapsed": false
   },
   "outputs": [],
   "source": [
    "calBlue = misc.imread('images/calBlue.tiff')\n",
    "Marconi = misc.imread('images/Marconi.tiff')\n",
    "createrLake = misc.imread('images/createrLake.tiff')\n",
    "Isee = misc.imread('images/Isee.tiff')\n",
    "pauly = misc.imread('images/pauly.tiff')"
   ]
  },
  {
   "cell_type": "code",
   "execution_count": 4,
   "metadata": {
    "collapsed": false
   },
   "outputs": [],
   "source": [
    "def zeropad_image(V):\n",
    "    def roundup(x):\n",
    "        return int(math.ceil(x * 1.0 / 8)) * 8\n",
    "    rows, cols = roundup(V.shape[0]), roundup(V.shape[1])\n",
    "    zeros = np.zeros((rows, cols, 3), dtype='uint8')\n",
    "    zeros[:V.shape[0], :V.shape[1], :] = V\n",
    "    return zeros"
   ]
  },
  {
   "cell_type": "code",
   "execution_count": 5,
   "metadata": {
    "collapsed": false
   },
   "outputs": [],
   "source": [
    "#Zero_pad\n",
    "O = zeropad_image(calBlue)\n",
    "#Conver to YCbCr\n",
    "O = rgb2lab(O)\n",
    "#Add offset\n",
    "O[:,:,[1,2]] += 128"
   ]
  },
  {
   "cell_type": "code",
   "execution_count": 22,
   "metadata": {
    "collapsed": false
   },
   "outputs": [
    {
     "data": {
      "image/png": "[encoded data removed]",
      "text/plain": [
       "<matplotlib.figure.Figure at 0x7f5870289410>"
      ]
     },
     "metadata": {},
     "output_type": "display_data"
    }
   ],
   "source": [
    "def block_image(V):\n",
    "    l = []\n",
    "    for i in np.arange(0,V.shape[0], 8):\n",
    "        for j in np.arange(0, V.shape[1], 8):\n",
    "            l.append(V[i:i+8, j:j+8, :])\n",
    "    return np.array(l)\n",
    "\n",
    "def dct_2d(X):\n",
    "    return dct(dct(X, axis=1), axis=2)\n",
    "\n",
    "def dct_all(X):\n",
    "    blocks = block_image(X)\n",
    "    return dct_2d(blocks)\n",
    "\n",
    "#Blocks and applies DCT\n",
    "O_dct = dct_all(O)"
   ]
  },
  {
   "cell_type": "code",
   "execution_count": 43,
   "metadata": {
    "collapsed": false
   },
   "outputs": [
    {
     "data": {
      "text/plain": [
       "(8, 8)"
      ]
     },
     "execution_count": 43,
     "metadata": {},
     "output_type": "execute_result"
    }
   ],
   "source": [
    "def quantize(DCT_coeffs, q):\n",
    "    DCT_coeffs = DCT_coeffs.copy()\n",
    "    def a(q):\n",
    "        assert q in range(1,101)\n",
    "        if q in range(1, 51):\n",
    "            return 50.0/q\n",
    "        else:\n",
    "            return 2-q*1.0/50\n",
    "    alpha = a(q)\n",
    "    \n",
    "    DCT_coeffs[:,:,:,0] = np.round(DCT_coeffs[:,:,:,0]*1.0/(alpha*luminance_table))\n",
    "    DCT_coeffs[:,:,:,1] = np.round(DCT_coeffs[:,:,:,1]*1.0/(alpha*chrominance_table))\n",
    "    DCT_coeffs[:,:,:,2] = np.round(DCT_coeffs[:,:,:,2]*1.0/(alpha*chrominance_table))\n",
    "    \n",
    "    return DCT_coeffs\n",
    "\n",
    "quantize(dct_all(O),50)"
   ]
  },
  {
   "cell_type": "code",
   "execution_count": 44,
   "metadata": {
    "collapsed": true
   },
   "outputs": [],
   "source": [
    "def JPEG_compression(image, quality = 50):\n",
    "    \"\"\"\n",
    "    \n",
    "    Takes in an RGB image and applys the JPEG compression algorithm\n",
    "    Steps:\n",
    "    -Preprocessing\n",
    "    -DCT\n",
    "    -Quantinization\n",
    "    \n",
    "    Input:\n",
    "    quality- determines the amount of lossy compression \n",
    "    \n",
    "    Output:\n",
    "    Numpy array of 8x8 blocks for each channel\n",
    "    [number of blocks, 8,8,3]\n",
    "    \"\"\"\n",
    "    #Prepocessing\n",
    "    im = zeropad_image(image)\n",
    "    im = rgb2lab(O)\n",
    "    im[:,:,[1,2]] += 128\n",
    "    #Blocked into 8x8 blocks and apply DCT\n",
    "    im_dct = dct_all(O)\n",
    "    #Quantize\n",
    "    im_q = quantize(im_dct,quality)\n",
    "    return im_q"
   ]
  },
  {
   "cell_type": "code",
   "execution_count": null,
   "metadata": {
    "collapsed": true
   },
   "outputs": [],
   "source": [
    "def JPEG_decompression(data,)"
   ]
  },
  {
   "cell_type": "code",
   "execution_count": null,
   "metadata": {
    "collapsed": true
   },
   "outputs": [],
   "source": []
  }
 ],
 "metadata": {
  "kernelspec": {
   "display_name": "Python 2",
   "language": "python",
   "name": "python2"
  },
  "language_info": {
   "codemirror_mode": {
    "name": "ipython",
    "version": 2
   },
   "file_extension": ".py",
   "mimetype": "text/x-python",
   "name": "python",
   "nbconvert_exporter": "python",
   "pygments_lexer": "ipython2",
   "version": "2.7.11"
  }
 },
 "nbformat": 4,
 "nbformat_minor": 0
}
