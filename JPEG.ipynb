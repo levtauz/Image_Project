{
 "cells": [
  {
   "cell_type": "code",
   "execution_count": null,
   "metadata": {
    "collapsed": false
   },
   "outputs": [],
   "source": [
    "from scipy import misc\n",
    "import numpy as np\n",
    "from scipy.fftpack import dct, idct\n",
    "from skimage.color import rgb2lab, lab2rgb\n",
    "import math\n",
    "import matplotlib.pyplot as plt\n",
    "from quant_tables import *\n",
    "%matplotlib inline"
   ]
  },
  {
   "cell_type": "code",
   "execution_count": null,
   "metadata": {
    "collapsed": false
   },
   "outputs": [],
   "source": [
    "calBlue = misc.imread('images/calBlue.tiff')\n",
    "Marconi = misc.imread('images/Marconi.tiff')\n",
    "createrLake = misc.imread('images/createrLake.tiff')\n",
    "Isee = misc.imread('images/Isee.tiff')\n",
    "pauly = misc.imread('images/pauly.tiff')"
   ]
  },
  {
   "cell_type": "code",
   "execution_count": null,
   "metadata": {
    "collapsed": false
   },
   "outputs": [],
   "source": [
    "def zeropad_image(V):\n",
    "    def roundup(x):\n",
    "        return int(math.ceil(x * 1.0 / 8)) * 8\n",
    "    rows, cols = roundup(V.shape[0]), roundup(V.shape[1])\n",
    "    zeros = np.zeros((rows, cols, 3), dtype='uint8')\n",
    "    zeros[:V.shape[0], :V.shape[1], :] = V\n",
    "    return zeros"
   ]
  },
  {
   "cell_type": "code",
   "execution_count": null,
   "metadata": {
    "collapsed": false
   },
   "outputs": [],
   "source": [
    "#Zero_pad\n",
    "O = zeropad_image(calBlue)\n",
    "#Conver to YCbCr\n",
    "O = rgb2lab(O)\n",
    "#Add offset\n",
    "O[:,:,[1,2]] += 128"
   ]
  },
  {
   "cell_type": "code",
   "execution_count": null,
   "metadata": {
    "collapsed": false
   },
   "outputs": [],
   "source": [
    "def block_image(V):\n",
    "    l = []\n",
    "    for i in np.arange(0,V.shape[0], 8):\n",
    "        for j in np.arange(0, V.shape[1], 8):\n",
    "            l.append(V[i:i+8, j:j+8, :])\n",
    "    return np.array(l)\n",
    "\n",
    "def dct_2d(X):\n",
    "    return dct(dct(X, axis=1,norm=\"ortho\"), axis=2,norm=\"ortho\")\n",
    "\n",
    "def dct_all(X):\n",
    "    blocks = block_image(X)\n",
    "    return dct_2d(blocks)\n",
    "\n",
    "def idct_2d(X):\n",
    "    return idct(idct(X, axis=1,norm=\"ortho\"), axis=2,norm=\"ortho\")\n",
    "\n",
    "#Blocks and applies DCT\n",
    "blocked_image = block_image(O)\n",
    "O_dct = dct_2d(blocked_image)"
   ]
  },
  {
   "cell_type": "code",
   "execution_count": null,
   "metadata": {
    "collapsed": false
   },
   "outputs": [],
   "source": [
    "def quantize(DCT_coeffs, q):\n",
    "    DCT_coeffs = DCT_coeffs.copy()\n",
    "    def a(q):\n",
    "        assert q in range(1,101)\n",
    "        if q in range(1, 51):\n",
    "            return 50.0/q\n",
    "        else:\n",
    "            return 2-q*1.0/50\n",
    "    alpha = a(q)\n",
    "    \n",
    "    DCT_coeffs[:,:,:,0] = np.round(DCT_coeffs[:,:,:,0]*1.0/(alpha*luminance_table))\n",
    "    DCT_coeffs[:,:,:,1] = np.round(DCT_coeffs[:,:,:,1]*1.0/(alpha*chrominance_table))\n",
    "    DCT_coeffs[:,:,:,2] = np.round(DCT_coeffs[:,:,:,2]*1.0/(alpha*chrominance_table))\n",
    "    \n",
    "    return DCT_coeffs\n",
    "\n",
    "O_q = quantize(dct_all(O),50)"
   ]
  },
  {
   "cell_type": "code",
   "execution_count": null,
   "metadata": {
    "collapsed": false
   },
   "outputs": [],
   "source": [
    "def zigzag(img):\n",
    "    \"\"\"\n",
    "    assumes 8x8x3 np array.\n",
    "    traverse in zig-zag order.\n",
    "    \"\"\"\n",
    "    vector = np.empty(img.shape[0] * img.shape[1] * img.shape[2])\n",
    "    indexorder = sorted(((y, x) for y in xrange(img.shape[0]) for x in xrange(img.shape[1])), \\\n",
    "        key = lambda (y,x): (y+x, -x if (y+x) % 2 else x) )\n",
    "    for i, idx in enumerate(indexorder):\n",
    "        y, x = idx\n",
    "        vector[3*i:3*i+3] = img[y, x, :]\n",
    "    return vector\n",
    "\n",
    "#test = np.arange(27).reshape(3,3,3)\n",
    "#print zigzag(test)"
   ]
  },
  {
   "cell_type": "code",
   "execution_count": null,
   "metadata": {
    "collapsed": true
   },
   "outputs": [],
   "source": [
    "def JPEG_compression(image, quality = 50):\n",
    "    \"\"\"\n",
    "    \n",
    "    Takes in an RGB image and applys the JPEG compression algorithm\n",
    "    Steps:\n",
    "    -Preprocessing\n",
    "    -DCT\n",
    "    -Quantinization\n",
    "    \n",
    "    Input:\n",
    "    quality- determines the amount of lossy compression \n",
    "    \n",
    "    Output:\n",
    "    Numpy array of 8x8 blocks for each channel\n",
    "    [number of blocks, 8,8,3]\n",
    "    \"\"\"\n",
    "    #Prepocessing\n",
    "    im = zeropad_image(image)\n",
    "    im = rgb2lab(im)\n",
    "    im[:,:,[1,2]] += 128\n",
    "    #Blocked into 8x8 blocks and apply DCT\n",
    "    im_dct = dct_all(im)\n",
    "    #Quantize\n",
    "    im_q = quantize(im_dct,quality)\n",
    "    return im_q"
   ]
  },
  {
   "cell_type": "code",
   "execution_count": null,
   "metadata": {
    "collapsed": false
   },
   "outputs": [],
   "source": [
    "data = JPEG_compression(calBlue,50)"
   ]
  },
  {
   "cell_type": "code",
   "execution_count": null,
   "metadata": {
    "collapsed": false
   },
   "outputs": [],
   "source": [
    "def idct_2d(X):\n",
    "    return idct(idct(X, axis=1,norm=\"ortho\"), axis=2,norm=\"ortho\")\n",
    "\n",
    "def unblock_image(X,height, width):\n",
    "    def roundup(x):\n",
    "        return int(math.ceil(x * 1.0 / 8)) * 8\n",
    "    height, width = roundup(height), roundup(width)\n",
    "    result = np.zeros((height,width,3))\n",
    "    n = 0\n",
    "    for i in np.arange(0,height, 8):\n",
    "        for j in np.arange(0, width, 8):\n",
    "            result[i:i+8,j:j+8,:] = X[n]\n",
    "            n += 1\n",
    "    return result\n",
    "    \n",
    "def unquantize(X,q):\n",
    "    X = X.copy()\n",
    "    def a(q):\n",
    "        assert q in range(1,101)\n",
    "        if q in range(1, 51):\n",
    "            return 50.0/q\n",
    "        else:\n",
    "            return 2-q*1.0/50\n",
    "    alpha = a(q)\n",
    "    \n",
    "    X[:,:,:,0] = np.round(X[:,:,:,0]*(alpha*luminance_table))\n",
    "    X[:,:,:,1] = np.round(X[:,:,:,1]*(alpha*chrominance_table))\n",
    "    X[:,:,:,2] = np.round(X[:,:,:,2]*(alpha*chrominance_table))\n",
    "    \n",
    "    return X\n"
   ]
  },
  {
   "cell_type": "code",
   "execution_count": null,
   "metadata": {
    "collapsed": true
   },
   "outputs": [],
   "source": [
    "def JPEG_decompression(data,quality,height,width):\n",
    "    im_q = unquantize(data,quality)\n",
    "    #IDCT\n",
    "    im_idct = idct_2d(im_q)\n",
    "    #Unblock\n",
    "    im = unblock_image(im_idct,height,width)\n",
    "    \n",
    "    #Undo offset and return to RGB\n",
    "    im[:,:,[1,2]] -= 128\n",
    "    im = lab2rgb(im)\n",
    "    return im[0:height,0:width]"
   ]
  },
  {
   "cell_type": "code",
   "execution_count": null,
   "metadata": {
    "collapsed": false
   },
   "outputs": [],
   "source": [
    "data = JPEG_compression(calBlue,50)\n",
    "im = JPEG_decompression(data,50,calBlue.shape[0],calBlue.shape[1])"
   ]
  },
  {
   "cell_type": "code",
   "execution_count": null,
   "metadata": {
    "collapsed": false
   },
   "outputs": [],
   "source": [
    "plt.imshow(calBlue);plt.show()\n",
    "plt.imshow(im)\n",
    "\n",
    "print im.shape\n",
    "print im[0:4,0:2,:]\n",
    "print im[0,0,0]\n",
    "print im[0,0,1]\n",
    "print im[0,0,2]"
   ]
  },
  {
   "cell_type": "code",
   "execution_count": null,
   "metadata": {
    "collapsed": true
   },
   "outputs": [],
   "source": []
  }
 ],
 "metadata": {
  "kernelspec": {
   "display_name": "Python 2",
   "language": "python",
   "name": "python2"
  },
  "language_info": {
   "codemirror_mode": {
    "name": "ipython",
    "version": 2
   },
   "file_extension": ".py",
   "mimetype": "text/x-python",
   "name": "python",
   "nbconvert_exporter": "python",
   "pygments_lexer": "ipython2",
   "version": "2.7.11"
  }
 },
 "nbformat": 4,
 "nbformat_minor": 0
}
